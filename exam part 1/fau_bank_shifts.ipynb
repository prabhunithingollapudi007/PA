{
 "cells": [
  {
   "cell_type": "code",
   "execution_count": 1,
   "id": "b1e74052",
   "metadata": {},
   "outputs": [],
   "source": [
    "# import the neccessary libraries\n",
    "\n",
    "import pandas as pd\n",
    "import numpy as np\n",
    "from pulp import  *"
   ]
  },
  {
   "cell_type": "code",
   "execution_count": 2,
   "id": "ee84ca5d",
   "metadata": {},
   "outputs": [
    {
     "name": "stderr",
     "output_type": "stream",
     "text": [
      "C:\\Users\\prabh\\AppData\\Local\\Temp\\ipykernel_14620\\1823470405.py:5: FutureWarning: DataFrame.applymap has been deprecated. Use DataFrame.map instead.\n",
      "  df = df.fillna(0).applymap(lambda x: 1 if x == \"X\" else x)\n"
     ]
    }
   ],
   "source": [
    "# import the dataset into a dataframe\n",
    "\n",
    "df = pd.read_csv(\"fau_bank_shifts.csv\", index_col=0)\n",
    "\n",
    "df = df.fillna(0).applymap(lambda x: 1 if x == \"X\" else x)"
   ]
  },
  {
   "cell_type": "code",
   "execution_count": 3,
   "id": "dda63322",
   "metadata": {},
   "outputs": [],
   "source": [
    "# read the avg number of customers for each day of the week in an array\n",
    "\n",
    "avg_customer_num_columns = [\"Avg_Customer_Number\"]"
   ]
  },
  {
   "cell_type": "code",
   "execution_count": 4,
   "id": "ac84d24a",
   "metadata": {},
   "outputs": [],
   "source": [
    "# create a matrix to show which shift each time window is associated with\n",
    "\n",
    "shifts = df.drop(index=[\"Wage rate per 4h shift (EUR)\"], columns=avg_customer_num_columns).values"
   ]
  },
  {
   "cell_type": "code",
   "execution_count": 5,
   "id": "ba9fb57e",
   "metadata": {},
   "outputs": [
    {
     "name": "stdout",
     "output_type": "stream",
     "text": [
      "[[1 0]\n",
      " [1 0]\n",
      " [1 0]\n",
      " [1 0]\n",
      " [0 1]\n",
      " [0 1]\n",
      " [0 1]\n",
      " [0 1]]\n"
     ]
    }
   ],
   "source": [
    "print(shifts)"
   ]
  },
  {
   "cell_type": "code",
   "execution_count": 6,
   "id": "35f670bc",
   "metadata": {},
   "outputs": [],
   "source": [
    "# read the rest of the data from the the csv file\n",
    "\n",
    "# number of shifts\n",
    "shift_num = shifts.shape[1]\n",
    "\n",
    "# number of time windows\n",
    "time_windows = shifts.shape[0]\n",
    "\n",
    "# number of customers measured per time window\n",
    "avg_customer_num = df[avg_customer_num_columns].values\n",
    "\n",
    "# wage rate per shift\n",
    "wages_per_shift = df.loc[\"Wage rate per 4h shift (EUR)\", :].values.astype(int)\n",
    "\n",
    "# service level\n",
    "service_level = np.array([[0.125, 0, 0], [0, 0, 0]]).astype(float)[0]"
   ]
  },
  {
   "cell_type": "code",
   "execution_count": 7,
   "id": "8ed6979d",
   "metadata": {},
   "outputs": [
    {
     "name": "stdout",
     "output_type": "stream",
     "text": [
      "Number of shifts:  2\n",
      "Number of time windows:  8\n",
      "Number of customers measured per time window:  [[28.]\n",
      " [35.]\n",
      " [21.]\n",
      " [46.]\n",
      " [32.]\n",
      " [14.]\n",
      " [24.]\n",
      " [32.]\n",
      " [ 0.]]\n",
      "Wage rate per shift:  [16 14  0]\n",
      "Service level:  [0.125 0.    0.   ]\n"
     ]
    }
   ],
   "source": [
    "print(\"Number of shifts: \", shift_num)\n",
    "print(\"Number of time windows: \", time_windows)\n",
    "print(\"Number of customers measured per time window: \", avg_customer_num)\n",
    "print(\"Wage rate per shift: \", wages_per_shift)\n",
    "print(\"Service level: \", service_level)"
   ]
  },
  {
   "cell_type": "code",
   "execution_count": 8,
   "id": "ba0268f1",
   "metadata": {},
   "outputs": [
    {
     "name": "stdout",
     "output_type": "stream",
     "text": [
      "{'0_0': num_workers_0_0, '0_1': num_workers_0_1}\n"
     ]
    }
   ],
   "source": [
    "# Determine the decision variable\n",
    "# final goal is to find the optimal number of workers for each time slot of each day\n",
    "\n",
    "num_workers_indexes = []\n",
    "for day_of_week in range(0,1):\n",
    "  for shift_index in range(shift_num):\n",
    "    num_workers_indexes.append(f'{day_of_week}_{shift_index}')\n",
    "    \n",
    "num_workers = LpVariable.dicts(\"num_workers\", num_workers_indexes, lowBound=0, cat=\"Integer\")\n",
    "print(num_workers)"
   ]
  },
  {
   "cell_type": "code",
   "execution_count": 9,
   "id": "0b632a01",
   "metadata": {},
   "outputs": [],
   "source": [
    "# Create problem\n",
    "# Minimize number of workers/costs paid for employees each day\n",
    "\n",
    "prob = LpProblem(\"scheduling_workers\", LpMinimize)"
   ]
  },
  {
   "cell_type": "code",
   "execution_count": 10,
   "id": "53895d64",
   "metadata": {},
   "outputs": [],
   "source": [
    "# add the contsraints to the LP problem\n",
    "# first add to the problem the wage for each shift\n",
    "\n",
    "prob += lpSum([[wages_per_shift[j] * num_workers[f'{day_of_week}_{j}'] for j in range(shift_num)]] for day_of_week in range(0,1))"
   ]
  },
  {
   "cell_type": "code",
   "execution_count": 11,
   "id": "a183919f",
   "metadata": {},
   "outputs": [
    {
     "name": "stdout",
     "output_type": "stream",
     "text": [
      "scheduling_workers:\n",
      "MINIMIZE\n",
      "16*num_workers_0_0 + 14*num_workers_0_1 + 0\n",
      "VARIABLES\n",
      "0 <= num_workers_0_0 Integer\n",
      "0 <= num_workers_0_1 Integer\n",
      "\n"
     ]
    }
   ],
   "source": [
    "print(prob)"
   ]
  },
  {
   "cell_type": "code",
   "execution_count": 12,
   "id": "fc20846e",
   "metadata": {},
   "outputs": [
    {
     "name": "stdout",
     "output_type": "stream",
     "text": [
      "[[28.]\n",
      " [35.]\n",
      " [21.]\n",
      " [46.]\n",
      " [32.]\n",
      " [14.]\n",
      " [24.]\n",
      " [32.]\n",
      " [ 0.]]\n",
      "28.0\n",
      "35.0\n",
      "21.0\n",
      "46.0\n",
      "32.0\n",
      "14.0\n",
      "24.0\n",
      "32.0\n"
     ]
    }
   ],
   "source": [
    "# the average number of customers in each time slot and the service level are also added to the LP problem\n",
    "\n",
    "print(avg_customer_num)\n",
    "for day_of_week in range(0, 1):\n",
    "  for t in range(time_windows):\n",
    "    print(avg_customer_num[t][day_of_week])\n",
    "    prob += lpSum([shifts[t, j] * num_workers[f'{day_of_week}_{j}'] for j in range(shift_num)]) >= avg_customer_num[t][day_of_week] * service_level"
   ]
  },
  {
   "cell_type": "code",
   "execution_count": 13,
   "id": "acc77ddd",
   "metadata": {},
   "outputs": [
    {
     "name": "stdout",
     "output_type": "stream",
     "text": [
      "Status: Optimal\n"
     ]
    }
   ],
   "source": [
    "# solve the problem\n",
    "\n",
    "prob.solve()\n",
    "print(\"Status:\", LpStatus[prob.status])"
   ]
  },
  {
   "cell_type": "code",
   "execution_count": 14,
   "id": "fce89c6a",
   "metadata": {},
   "outputs": [
    {
     "name": "stdout",
     "output_type": "stream",
     "text": [
      "The number of workers needed for shift 0 is 6 workers\n",
      "The number of workers needed for shift 1 is 4 workers\n"
     ]
    }
   ],
   "source": [
    "# print the results\n",
    "\n",
    "for index in num_workers:\n",
    "  index_parts = index.split('_')\n",
    "  day_of_week = int(index_parts[0])\n",
    "  shift = index_parts[1]\n",
    "  print(\n",
    "    f\"The number of workers needed for shift {shift} is {int(num_workers[index].value())} workers\"\n",
    "  )"
   ]
  }
 ],
 "metadata": {
  "kernelspec": {
   "display_name": "Python 3 (ipykernel)",
   "language": "python",
   "name": "python3"
  },
  "language_info": {
   "codemirror_mode": {
    "name": "ipython",
    "version": 3
   },
   "file_extension": ".py",
   "mimetype": "text/x-python",
   "name": "python",
   "nbconvert_exporter": "python",
   "pygments_lexer": "ipython3",
   "version": "3.12.4"
  }
 },
 "nbformat": 4,
 "nbformat_minor": 5
}
